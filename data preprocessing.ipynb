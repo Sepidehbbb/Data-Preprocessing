{
 "cells": [
  {
   "cell_type": "code",
   "id": "initial_id",
   "metadata": {
    "collapsed": true,
    "ExecuteTime": {
     "end_time": "2025-01-25T07:49:21.738618Z",
     "start_time": "2025-01-25T07:49:21.712796Z"
    }
   },
   "source": [
    "import pandas as pd\n",
    "\n",
    "# Sample DataFrame\n",
    "data = {\n",
    "    'Color': ['Red', 'Blue', 'Green', 'Blue', 'Red'],\n",
    "    'Size': ['S', 'M', 'L', 'M', 'S']\n",
    "}\n",
    "\n",
    "df = pd.DataFrame(data)\n",
    "print(\"Original DataFrame:\")\n",
    "print(df)"
   ],
   "outputs": [
    {
     "name": "stdout",
     "output_type": "stream",
     "text": [
      "Original DataFrame:\n",
      "   Color Size\n",
      "0    Red    S\n",
      "1   Blue    M\n",
      "2  Green    L\n",
      "3   Blue    M\n",
      "4    Red    S\n"
     ]
    }
   ],
   "execution_count": 2
  },
  {
   "metadata": {
    "ExecuteTime": {
     "end_time": "2025-01-25T07:49:22.109027Z",
     "start_time": "2025-01-25T07:49:22.079552Z"
    }
   },
   "cell_type": "code",
   "source": [
    "# Define the mapping for encoding\n",
    "color_mapping = {'Red': 1, 'Blue': 2, 'Green': 3}\n",
    "size_mapping = {'S': 1, 'M': 2, 'L': 3}\n",
    "\n",
    "# Replace values using the mapping\n",
    "df['Color'] = df['Color'].replace(color_mapping)\n",
    "df['Size'] = df['Size'].replace(size_mapping)\n",
    "\n",
    "print(\"\\nEncoded DataFrame:\")\n",
    "print(df)"
   ],
   "id": "bb8ec3353384b73e",
   "outputs": [
    {
     "name": "stdout",
     "output_type": "stream",
     "text": [
      "\n",
      "Encoded DataFrame:\n",
      "   Color  Size\n",
      "0      1     1\n",
      "1      2     2\n",
      "2      3     3\n",
      "3      2     2\n",
      "4      1     1\n"
     ]
    },
    {
     "name": "stderr",
     "output_type": "stream",
     "text": [
      "C:\\Users\\Surface\\AppData\\Local\\Temp\\ipykernel_5860\\1443366099.py:6: FutureWarning: Downcasting behavior in `replace` is deprecated and will be removed in a future version. To retain the old behavior, explicitly call `result.infer_objects(copy=False)`. To opt-in to the future behavior, set `pd.set_option('future.no_silent_downcasting', True)`\n",
      "  df['Color'] = df['Color'].replace(color_mapping)\n",
      "C:\\Users\\Surface\\AppData\\Local\\Temp\\ipykernel_5860\\1443366099.py:7: FutureWarning: Downcasting behavior in `replace` is deprecated and will be removed in a future version. To retain the old behavior, explicitly call `result.infer_objects(copy=False)`. To opt-in to the future behavior, set `pd.set_option('future.no_silent_downcasting', True)`\n",
      "  df['Size'] = df['Size'].replace(size_mapping)\n"
     ]
    }
   ],
   "execution_count": 3
  },
  {
   "metadata": {
    "ExecuteTime": {
     "end_time": "2025-01-25T08:11:30.292340Z",
     "start_time": "2025-01-25T08:11:30.210983Z"
    }
   },
   "cell_type": "code",
   "source": [
    " #time\n",
    "import pandas as pd\n",
    "from datetime import datetime\n",
    "\n",
    "# Sample DataFrame\n",
    "\n",
    "data = {\n",
    "    'Start_Time  ': ['2023-01-01 12:00:00', '2023-01-02 13:30:00'],\n",
    "    'End_Time': ['2023-01-01 14:00:00', '2023-01-02 15:30:00']\n",
    "}\n",
    "df = pd.DataFrame(data)\n",
    "\n",
    "# Print original column names\n",
    "print(\"Original columns:\", df.columns)\n",
    "\n",
    "# Strip whitespace from column names\n",
    "df.columns = df.columns.str.strip()\n",
    "\n",
    "# Print cleaned column names\n",
    "print(\"Cleaned columns:\", df.columns)\n",
    "\n",
    "# Define the function to extract time (as in your original example)\n",
    "def extract_time(dt_str):\n",
    "    return pd.to_datetime(dt_str).time()\n",
    "\n",
    "# Apply the function to the DataFrame\n",
    "df['Start_Time'] = df['Start_Time'].apply(extract_time)\n",
    "df['End_Time'] = df['End_Time'].apply(extract_time)\n",
    "\n",
    "print(df)"
   ],
   "id": "c892a067c40e45ec",
   "outputs": [
    {
     "name": "stdout",
     "output_type": "stream",
     "text": [
      "Original columns: Index(['Start_Time  ', 'End_Time'], dtype='object')\n",
      "Cleaned columns: Index(['Start_Time', 'End_Time'], dtype='object')\n",
      "  Start_Time  End_Time\n",
      "0   12:00:00  14:00:00\n",
      "1   13:30:00  15:30:00\n"
     ]
    }
   ],
   "execution_count": 5
  },
  {
   "metadata": {},
   "cell_type": "code",
   "outputs": [],
   "execution_count": null,
   "source": "",
   "id": "e9001ccaea17451e"
  }
 ],
 "metadata": {
  "kernelspec": {
   "display_name": "Python 3",
   "language": "python",
   "name": "python3"
  },
  "language_info": {
   "codemirror_mode": {
    "name": "ipython",
    "version": 2
   },
   "file_extension": ".py",
   "mimetype": "text/x-python",
   "name": "python",
   "nbconvert_exporter": "python",
   "pygments_lexer": "ipython2",
   "version": "2.7.6"
  }
 },
 "nbformat": 4,
 "nbformat_minor": 5
}
